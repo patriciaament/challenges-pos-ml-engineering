{
  "nbformat": 4,
  "nbformat_minor": 0,
  "metadata": {
    "colab": {
      "provenance": []
    },
    "kernelspec": {
      "name": "python3",
      "display_name": "Python 3"
    },
    "language_info": {
      "name": "python"
    }
  },
  "cells": [
    {
      "cell_type": "markdown",
      "source": [
        "# Projeto: Seleção de Modelos de Machine Learning para Interpretação de Dados de Pacientes\n",
        "<hr>\n",
        "\n",
        "#### Explorando dados para analisar dataset sobre pacientes diganosticados ou não com doenças hepáticas <br>"
      ],
      "metadata": {
        "id": "15EDKv8yZR7g"
      }
    },
    {
      "cell_type": "code",
      "execution_count": 1,
      "metadata": {
        "id": "CD83BykTY---"
      },
      "outputs": [],
      "source": [
        "import pandas as pd\n",
        "import numpy as np\n",
        "from sklearn.ensemble import RandomForestClassifier\n",
        "from sklearn.svm import SVC\n",
        "from sklearn.model_selection import StratifiedKFold\n",
        "from sklearn.model_selection import RandomizedSearchCV\n",
        "from scipy.stats import uniform\n",
        "from scipy.stats import randint\n",
        "from sklearn.metrics import f1_score, make_scorer"
      ]
    },
    {
      "cell_type": "code",
      "source": [
        "df = pd.read_csv('dataset.csv')"
      ],
      "metadata": {
        "id": "yNyZXc3_aJwy"
      },
      "execution_count": 2,
      "outputs": []
    },
    {
      "cell_type": "markdown",
      "source": [
        "> #### Iniciando exploração dos dados"
      ],
      "metadata": {
        "id": "q1LzMKJfabVb"
      }
    },
    {
      "cell_type": "code",
      "source": [
        "df.head()"
      ],
      "metadata": {
        "colab": {
          "base_uri": "https://localhost:8080/",
          "height": 206
        },
        "id": "-v3DqPOYaTVT",
        "outputId": "3b6c6787-4f30-4bd9-e1a5-db86e73e16d1"
      },
      "execution_count": 3,
      "outputs": [
        {
          "output_type": "execute_result",
          "data": {
            "text/plain": [
              "   id  V1      V2    V3   V4   V5  V6   V7   V8   V9   V10  Class\n",
              "0   1  65  Female   0.7  0.1  187  16   18  6.8  3.3  0.90      1\n",
              "1   2  62    Male  10.9  5.5  699  64  100  7.5  3.2  0.74      1\n",
              "2   3  62    Male   7.3  4.1  490  60   68  7.0  3.3  0.89      1\n",
              "3   4  58    Male   1.0  0.4  182  14   20  6.8  3.4  1.00      1\n",
              "4   5  72    Male   3.9  2.0  195  27   59  7.3  2.4  0.40      1"
            ],
            "text/html": [
              "\n",
              "  <div id=\"df-091a3fce-ac1a-467c-a38d-793be1bb5abc\" class=\"colab-df-container\">\n",
              "    <div>\n",
              "<style scoped>\n",
              "    .dataframe tbody tr th:only-of-type {\n",
              "        vertical-align: middle;\n",
              "    }\n",
              "\n",
              "    .dataframe tbody tr th {\n",
              "        vertical-align: top;\n",
              "    }\n",
              "\n",
              "    .dataframe thead th {\n",
              "        text-align: right;\n",
              "    }\n",
              "</style>\n",
              "<table border=\"1\" class=\"dataframe\">\n",
              "  <thead>\n",
              "    <tr style=\"text-align: right;\">\n",
              "      <th></th>\n",
              "      <th>id</th>\n",
              "      <th>V1</th>\n",
              "      <th>V2</th>\n",
              "      <th>V3</th>\n",
              "      <th>V4</th>\n",
              "      <th>V5</th>\n",
              "      <th>V6</th>\n",
              "      <th>V7</th>\n",
              "      <th>V8</th>\n",
              "      <th>V9</th>\n",
              "      <th>V10</th>\n",
              "      <th>Class</th>\n",
              "    </tr>\n",
              "  </thead>\n",
              "  <tbody>\n",
              "    <tr>\n",
              "      <th>0</th>\n",
              "      <td>1</td>\n",
              "      <td>65</td>\n",
              "      <td>Female</td>\n",
              "      <td>0.7</td>\n",
              "      <td>0.1</td>\n",
              "      <td>187</td>\n",
              "      <td>16</td>\n",
              "      <td>18</td>\n",
              "      <td>6.8</td>\n",
              "      <td>3.3</td>\n",
              "      <td>0.90</td>\n",
              "      <td>1</td>\n",
              "    </tr>\n",
              "    <tr>\n",
              "      <th>1</th>\n",
              "      <td>2</td>\n",
              "      <td>62</td>\n",
              "      <td>Male</td>\n",
              "      <td>10.9</td>\n",
              "      <td>5.5</td>\n",
              "      <td>699</td>\n",
              "      <td>64</td>\n",
              "      <td>100</td>\n",
              "      <td>7.5</td>\n",
              "      <td>3.2</td>\n",
              "      <td>0.74</td>\n",
              "      <td>1</td>\n",
              "    </tr>\n",
              "    <tr>\n",
              "      <th>2</th>\n",
              "      <td>3</td>\n",
              "      <td>62</td>\n",
              "      <td>Male</td>\n",
              "      <td>7.3</td>\n",
              "      <td>4.1</td>\n",
              "      <td>490</td>\n",
              "      <td>60</td>\n",
              "      <td>68</td>\n",
              "      <td>7.0</td>\n",
              "      <td>3.3</td>\n",
              "      <td>0.89</td>\n",
              "      <td>1</td>\n",
              "    </tr>\n",
              "    <tr>\n",
              "      <th>3</th>\n",
              "      <td>4</td>\n",
              "      <td>58</td>\n",
              "      <td>Male</td>\n",
              "      <td>1.0</td>\n",
              "      <td>0.4</td>\n",
              "      <td>182</td>\n",
              "      <td>14</td>\n",
              "      <td>20</td>\n",
              "      <td>6.8</td>\n",
              "      <td>3.4</td>\n",
              "      <td>1.00</td>\n",
              "      <td>1</td>\n",
              "    </tr>\n",
              "    <tr>\n",
              "      <th>4</th>\n",
              "      <td>5</td>\n",
              "      <td>72</td>\n",
              "      <td>Male</td>\n",
              "      <td>3.9</td>\n",
              "      <td>2.0</td>\n",
              "      <td>195</td>\n",
              "      <td>27</td>\n",
              "      <td>59</td>\n",
              "      <td>7.3</td>\n",
              "      <td>2.4</td>\n",
              "      <td>0.40</td>\n",
              "      <td>1</td>\n",
              "    </tr>\n",
              "  </tbody>\n",
              "</table>\n",
              "</div>\n",
              "    <div class=\"colab-df-buttons\">\n",
              "\n",
              "  <div class=\"colab-df-container\">\n",
              "    <button class=\"colab-df-convert\" onclick=\"convertToInteractive('df-091a3fce-ac1a-467c-a38d-793be1bb5abc')\"\n",
              "            title=\"Convert this dataframe to an interactive table.\"\n",
              "            style=\"display:none;\">\n",
              "\n",
              "  <svg xmlns=\"http://www.w3.org/2000/svg\" height=\"24px\" viewBox=\"0 -960 960 960\">\n",
              "    <path d=\"M120-120v-720h720v720H120Zm60-500h600v-160H180v160Zm220 220h160v-160H400v160Zm0 220h160v-160H400v160ZM180-400h160v-160H180v160Zm440 0h160v-160H620v160ZM180-180h160v-160H180v160Zm440 0h160v-160H620v160Z\"/>\n",
              "  </svg>\n",
              "    </button>\n",
              "\n",
              "  <style>\n",
              "    .colab-df-container {\n",
              "      display:flex;\n",
              "      gap: 12px;\n",
              "    }\n",
              "\n",
              "    .colab-df-convert {\n",
              "      background-color: #E8F0FE;\n",
              "      border: none;\n",
              "      border-radius: 50%;\n",
              "      cursor: pointer;\n",
              "      display: none;\n",
              "      fill: #1967D2;\n",
              "      height: 32px;\n",
              "      padding: 0 0 0 0;\n",
              "      width: 32px;\n",
              "    }\n",
              "\n",
              "    .colab-df-convert:hover {\n",
              "      background-color: #E2EBFA;\n",
              "      box-shadow: 0px 1px 2px rgba(60, 64, 67, 0.3), 0px 1px 3px 1px rgba(60, 64, 67, 0.15);\n",
              "      fill: #174EA6;\n",
              "    }\n",
              "\n",
              "    .colab-df-buttons div {\n",
              "      margin-bottom: 4px;\n",
              "    }\n",
              "\n",
              "    [theme=dark] .colab-df-convert {\n",
              "      background-color: #3B4455;\n",
              "      fill: #D2E3FC;\n",
              "    }\n",
              "\n",
              "    [theme=dark] .colab-df-convert:hover {\n",
              "      background-color: #434B5C;\n",
              "      box-shadow: 0px 1px 3px 1px rgba(0, 0, 0, 0.15);\n",
              "      filter: drop-shadow(0px 1px 2px rgba(0, 0, 0, 0.3));\n",
              "      fill: #FFFFFF;\n",
              "    }\n",
              "  </style>\n",
              "\n",
              "    <script>\n",
              "      const buttonEl =\n",
              "        document.querySelector('#df-091a3fce-ac1a-467c-a38d-793be1bb5abc button.colab-df-convert');\n",
              "      buttonEl.style.display =\n",
              "        google.colab.kernel.accessAllowed ? 'block' : 'none';\n",
              "\n",
              "      async function convertToInteractive(key) {\n",
              "        const element = document.querySelector('#df-091a3fce-ac1a-467c-a38d-793be1bb5abc');\n",
              "        const dataTable =\n",
              "          await google.colab.kernel.invokeFunction('convertToInteractive',\n",
              "                                                    [key], {});\n",
              "        if (!dataTable) return;\n",
              "\n",
              "        const docLinkHtml = 'Like what you see? Visit the ' +\n",
              "          '<a target=\"_blank\" href=https://colab.research.google.com/notebooks/data_table.ipynb>data table notebook</a>'\n",
              "          + ' to learn more about interactive tables.';\n",
              "        element.innerHTML = '';\n",
              "        dataTable['output_type'] = 'display_data';\n",
              "        await google.colab.output.renderOutput(dataTable, element);\n",
              "        const docLink = document.createElement('div');\n",
              "        docLink.innerHTML = docLinkHtml;\n",
              "        element.appendChild(docLink);\n",
              "      }\n",
              "    </script>\n",
              "  </div>\n",
              "\n",
              "\n",
              "<div id=\"df-7daa5460-f572-4351-8dbd-7e80a5c79b69\">\n",
              "  <button class=\"colab-df-quickchart\" onclick=\"quickchart('df-7daa5460-f572-4351-8dbd-7e80a5c79b69')\"\n",
              "            title=\"Suggest charts\"\n",
              "            style=\"display:none;\">\n",
              "\n",
              "<svg xmlns=\"http://www.w3.org/2000/svg\" height=\"24px\"viewBox=\"0 0 24 24\"\n",
              "     width=\"24px\">\n",
              "    <g>\n",
              "        <path d=\"M19 3H5c-1.1 0-2 .9-2 2v14c0 1.1.9 2 2 2h14c1.1 0 2-.9 2-2V5c0-1.1-.9-2-2-2zM9 17H7v-7h2v7zm4 0h-2V7h2v10zm4 0h-2v-4h2v4z\"/>\n",
              "    </g>\n",
              "</svg>\n",
              "  </button>\n",
              "\n",
              "<style>\n",
              "  .colab-df-quickchart {\n",
              "      --bg-color: #E8F0FE;\n",
              "      --fill-color: #1967D2;\n",
              "      --hover-bg-color: #E2EBFA;\n",
              "      --hover-fill-color: #174EA6;\n",
              "      --disabled-fill-color: #AAA;\n",
              "      --disabled-bg-color: #DDD;\n",
              "  }\n",
              "\n",
              "  [theme=dark] .colab-df-quickchart {\n",
              "      --bg-color: #3B4455;\n",
              "      --fill-color: #D2E3FC;\n",
              "      --hover-bg-color: #434B5C;\n",
              "      --hover-fill-color: #FFFFFF;\n",
              "      --disabled-bg-color: #3B4455;\n",
              "      --disabled-fill-color: #666;\n",
              "  }\n",
              "\n",
              "  .colab-df-quickchart {\n",
              "    background-color: var(--bg-color);\n",
              "    border: none;\n",
              "    border-radius: 50%;\n",
              "    cursor: pointer;\n",
              "    display: none;\n",
              "    fill: var(--fill-color);\n",
              "    height: 32px;\n",
              "    padding: 0;\n",
              "    width: 32px;\n",
              "  }\n",
              "\n",
              "  .colab-df-quickchart:hover {\n",
              "    background-color: var(--hover-bg-color);\n",
              "    box-shadow: 0 1px 2px rgba(60, 64, 67, 0.3), 0 1px 3px 1px rgba(60, 64, 67, 0.15);\n",
              "    fill: var(--button-hover-fill-color);\n",
              "  }\n",
              "\n",
              "  .colab-df-quickchart-complete:disabled,\n",
              "  .colab-df-quickchart-complete:disabled:hover {\n",
              "    background-color: var(--disabled-bg-color);\n",
              "    fill: var(--disabled-fill-color);\n",
              "    box-shadow: none;\n",
              "  }\n",
              "\n",
              "  .colab-df-spinner {\n",
              "    border: 2px solid var(--fill-color);\n",
              "    border-color: transparent;\n",
              "    border-bottom-color: var(--fill-color);\n",
              "    animation:\n",
              "      spin 1s steps(1) infinite;\n",
              "  }\n",
              "\n",
              "  @keyframes spin {\n",
              "    0% {\n",
              "      border-color: transparent;\n",
              "      border-bottom-color: var(--fill-color);\n",
              "      border-left-color: var(--fill-color);\n",
              "    }\n",
              "    20% {\n",
              "      border-color: transparent;\n",
              "      border-left-color: var(--fill-color);\n",
              "      border-top-color: var(--fill-color);\n",
              "    }\n",
              "    30% {\n",
              "      border-color: transparent;\n",
              "      border-left-color: var(--fill-color);\n",
              "      border-top-color: var(--fill-color);\n",
              "      border-right-color: var(--fill-color);\n",
              "    }\n",
              "    40% {\n",
              "      border-color: transparent;\n",
              "      border-right-color: var(--fill-color);\n",
              "      border-top-color: var(--fill-color);\n",
              "    }\n",
              "    60% {\n",
              "      border-color: transparent;\n",
              "      border-right-color: var(--fill-color);\n",
              "    }\n",
              "    80% {\n",
              "      border-color: transparent;\n",
              "      border-right-color: var(--fill-color);\n",
              "      border-bottom-color: var(--fill-color);\n",
              "    }\n",
              "    90% {\n",
              "      border-color: transparent;\n",
              "      border-bottom-color: var(--fill-color);\n",
              "    }\n",
              "  }\n",
              "</style>\n",
              "\n",
              "  <script>\n",
              "    async function quickchart(key) {\n",
              "      const quickchartButtonEl =\n",
              "        document.querySelector('#' + key + ' button');\n",
              "      quickchartButtonEl.disabled = true;  // To prevent multiple clicks.\n",
              "      quickchartButtonEl.classList.add('colab-df-spinner');\n",
              "      try {\n",
              "        const charts = await google.colab.kernel.invokeFunction(\n",
              "            'suggestCharts', [key], {});\n",
              "      } catch (error) {\n",
              "        console.error('Error during call to suggestCharts:', error);\n",
              "      }\n",
              "      quickchartButtonEl.classList.remove('colab-df-spinner');\n",
              "      quickchartButtonEl.classList.add('colab-df-quickchart-complete');\n",
              "    }\n",
              "    (() => {\n",
              "      let quickchartButtonEl =\n",
              "        document.querySelector('#df-7daa5460-f572-4351-8dbd-7e80a5c79b69 button');\n",
              "      quickchartButtonEl.style.display =\n",
              "        google.colab.kernel.accessAllowed ? 'block' : 'none';\n",
              "    })();\n",
              "  </script>\n",
              "</div>\n",
              "\n",
              "    </div>\n",
              "  </div>\n"
            ],
            "application/vnd.google.colaboratory.intrinsic+json": {
              "type": "dataframe",
              "variable_name": "df",
              "summary": "{\n  \"name\": \"df\",\n  \"rows\": 583,\n  \"fields\": [\n    {\n      \"column\": \"id\",\n      \"properties\": {\n        \"dtype\": \"number\",\n        \"std\": 168,\n        \"min\": 1,\n        \"max\": 583,\n        \"num_unique_values\": 583,\n        \"samples\": [\n          356,\n          408,\n          91\n        ],\n        \"semantic_type\": \"\",\n        \"description\": \"\"\n      }\n    },\n    {\n      \"column\": \"V1\",\n      \"properties\": {\n        \"dtype\": \"number\",\n        \"std\": 16,\n        \"min\": 4,\n        \"max\": 90,\n        \"num_unique_values\": 72,\n        \"samples\": [\n          46,\n          23,\n          63\n        ],\n        \"semantic_type\": \"\",\n        \"description\": \"\"\n      }\n    },\n    {\n      \"column\": \"V2\",\n      \"properties\": {\n        \"dtype\": \"category\",\n        \"num_unique_values\": 2,\n        \"samples\": [\n          \"Male\",\n          \"Female\"\n        ],\n        \"semantic_type\": \"\",\n        \"description\": \"\"\n      }\n    },\n    {\n      \"column\": \"V3\",\n      \"properties\": {\n        \"dtype\": \"number\",\n        \"std\": 6.209521726180145,\n        \"min\": 0.4,\n        \"max\": 75.0,\n        \"num_unique_values\": 113,\n        \"samples\": [\n          4.9,\n          3.9\n        ],\n        \"semantic_type\": \"\",\n        \"description\": \"\"\n      }\n    },\n    {\n      \"column\": \"V4\",\n      \"properties\": {\n        \"dtype\": \"number\",\n        \"std\": 2.8084976176589636,\n        \"min\": 0.1,\n        \"max\": 19.7,\n        \"num_unique_values\": 80,\n        \"samples\": [\n          6.2,\n          0.1\n        ],\n        \"semantic_type\": \"\",\n        \"description\": \"\"\n      }\n    },\n    {\n      \"column\": \"V5\",\n      \"properties\": {\n        \"dtype\": \"number\",\n        \"std\": 242,\n        \"min\": 63,\n        \"max\": 2110,\n        \"num_unique_values\": 263,\n        \"samples\": [\n          386,\n          209\n        ],\n        \"semantic_type\": \"\",\n        \"description\": \"\"\n      }\n    },\n    {\n      \"column\": \"V6\",\n      \"properties\": {\n        \"dtype\": \"number\",\n        \"std\": 182,\n        \"min\": 10,\n        \"max\": 2000,\n        \"num_unique_values\": 152,\n        \"samples\": [\n          2000,\n          321\n        ],\n        \"semantic_type\": \"\",\n        \"description\": \"\"\n      }\n    },\n    {\n      \"column\": \"V7\",\n      \"properties\": {\n        \"dtype\": \"number\",\n        \"std\": 288,\n        \"min\": 10,\n        \"max\": 4929,\n        \"num_unique_values\": 177,\n        \"samples\": [\n          66,\n          16\n        ],\n        \"semantic_type\": \"\",\n        \"description\": \"\"\n      }\n    },\n    {\n      \"column\": \"V8\",\n      \"properties\": {\n        \"dtype\": \"number\",\n        \"std\": 1.0854514840234664,\n        \"min\": 2.7,\n        \"max\": 9.6,\n        \"num_unique_values\": 58,\n        \"samples\": [\n          6.8,\n          6.7\n        ],\n        \"semantic_type\": \"\",\n        \"description\": \"\"\n      }\n    },\n    {\n      \"column\": \"V9\",\n      \"properties\": {\n        \"dtype\": \"number\",\n        \"std\": 0.795518805964027,\n        \"min\": 0.9,\n        \"max\": 5.5,\n        \"num_unique_values\": 40,\n        \"samples\": [\n          2.0,\n          1.9\n        ],\n        \"semantic_type\": \"\",\n        \"description\": \"\"\n      }\n    },\n    {\n      \"column\": \"V10\",\n      \"properties\": {\n        \"dtype\": \"number\",\n        \"std\": 0.31849195945867453,\n        \"min\": 0.3,\n        \"max\": 2.8,\n        \"num_unique_values\": 70,\n        \"samples\": [\n          1.6,\n          0.9\n        ],\n        \"semantic_type\": \"\",\n        \"description\": \"\"\n      }\n    },\n    {\n      \"column\": \"Class\",\n      \"properties\": {\n        \"dtype\": \"number\",\n        \"std\": 0,\n        \"min\": 1,\n        \"max\": 2,\n        \"num_unique_values\": 2,\n        \"samples\": [\n          2,\n          1\n        ],\n        \"semantic_type\": \"\",\n        \"description\": \"\"\n      }\n    }\n  ]\n}"
            }
          },
          "metadata": {},
          "execution_count": 3
        }
      ]
    },
    {
      "cell_type": "code",
      "source": [
        "df.info()"
      ],
      "metadata": {
        "colab": {
          "base_uri": "https://localhost:8080/"
        },
        "id": "arI9l6hJafdZ",
        "outputId": "9bba87a5-339f-4751-d612-1b8dc5dc18ef"
      },
      "execution_count": 4,
      "outputs": [
        {
          "output_type": "stream",
          "name": "stdout",
          "text": [
            "<class 'pandas.core.frame.DataFrame'>\n",
            "RangeIndex: 583 entries, 0 to 582\n",
            "Data columns (total 12 columns):\n",
            " #   Column  Non-Null Count  Dtype  \n",
            "---  ------  --------------  -----  \n",
            " 0   id      583 non-null    int64  \n",
            " 1   V1      583 non-null    int64  \n",
            " 2   V2      583 non-null    object \n",
            " 3   V3      583 non-null    float64\n",
            " 4   V4      583 non-null    float64\n",
            " 5   V5      583 non-null    int64  \n",
            " 6   V6      583 non-null    int64  \n",
            " 7   V7      583 non-null    int64  \n",
            " 8   V8      583 non-null    float64\n",
            " 9   V9      583 non-null    float64\n",
            " 10  V10     583 non-null    float64\n",
            " 11  Class   583 non-null    int64  \n",
            "dtypes: float64(5), int64(6), object(1)\n",
            "memory usage: 54.8+ KB\n"
          ]
        }
      ]
    },
    {
      "cell_type": "code",
      "source": [
        "df.shape"
      ],
      "metadata": {
        "colab": {
          "base_uri": "https://localhost:8080/"
        },
        "id": "YSrNiQWSalPT",
        "outputId": "82429d5a-8afb-4235-906e-a7db54e712a2"
      },
      "execution_count": 5,
      "outputs": [
        {
          "output_type": "execute_result",
          "data": {
            "text/plain": [
              "(583, 12)"
            ]
          },
          "metadata": {},
          "execution_count": 5
        }
      ]
    },
    {
      "cell_type": "markdown",
      "source": [
        "> #### Respondendo às perguntas"
      ],
      "metadata": {
        "id": "MnXyF4j8auL-"
      }
    },
    {
      "cell_type": "markdown",
      "source": [
        "### Pergunta 1:\n",
        "O objetivo dessa base é avaliar se uma pessoa vai ser um paciente hepático ou não. A feature que determina a classe nessa base é a “V7”."
      ],
      "metadata": {
        "id": "uSJgzww6ay-k"
      }
    },
    {
      "cell_type": "code",
      "source": [
        "df['V7'].head()"
      ],
      "metadata": {
        "colab": {
          "base_uri": "https://localhost:8080/",
          "height": 241
        },
        "id": "PtZVnc7dasPE",
        "outputId": "06b52396-f4c3-47c8-a83c-fd049324bb8b"
      },
      "execution_count": 6,
      "outputs": [
        {
          "output_type": "execute_result",
          "data": {
            "text/plain": [
              "0     18\n",
              "1    100\n",
              "2     68\n",
              "3     20\n",
              "4     59\n",
              "Name: V7, dtype: int64"
            ],
            "text/html": [
              "<div>\n",
              "<style scoped>\n",
              "    .dataframe tbody tr th:only-of-type {\n",
              "        vertical-align: middle;\n",
              "    }\n",
              "\n",
              "    .dataframe tbody tr th {\n",
              "        vertical-align: top;\n",
              "    }\n",
              "\n",
              "    .dataframe thead th {\n",
              "        text-align: right;\n",
              "    }\n",
              "</style>\n",
              "<table border=\"1\" class=\"dataframe\">\n",
              "  <thead>\n",
              "    <tr style=\"text-align: right;\">\n",
              "      <th></th>\n",
              "      <th>V7</th>\n",
              "    </tr>\n",
              "  </thead>\n",
              "  <tbody>\n",
              "    <tr>\n",
              "      <th>0</th>\n",
              "      <td>18</td>\n",
              "    </tr>\n",
              "    <tr>\n",
              "      <th>1</th>\n",
              "      <td>100</td>\n",
              "    </tr>\n",
              "    <tr>\n",
              "      <th>2</th>\n",
              "      <td>68</td>\n",
              "    </tr>\n",
              "    <tr>\n",
              "      <th>3</th>\n",
              "      <td>20</td>\n",
              "    </tr>\n",
              "    <tr>\n",
              "      <th>4</th>\n",
              "      <td>59</td>\n",
              "    </tr>\n",
              "  </tbody>\n",
              "</table>\n",
              "</div><br><label><b>dtype:</b> int64</label>"
            ]
          },
          "metadata": {},
          "execution_count": 6
        }
      ]
    },
    {
      "cell_type": "markdown",
      "source": [
        "### Pergunta 2:\n",
        "Sobre as informações de número de features e amostras, marque a alternativa CORRETA."
      ],
      "metadata": {
        "id": "4pSjbHrRbCy6"
      }
    },
    {
      "cell_type": "code",
      "source": [
        "df.shape"
      ],
      "metadata": {
        "colab": {
          "base_uri": "https://localhost:8080/"
        },
        "id": "N3O-yx11a-9W",
        "outputId": "0dbbe2c0-737c-4a6a-e033-0aada5304ea7"
      },
      "execution_count": 7,
      "outputs": [
        {
          "output_type": "execute_result",
          "data": {
            "text/plain": [
              "(583, 12)"
            ]
          },
          "metadata": {},
          "execution_count": 7
        }
      ]
    },
    {
      "cell_type": "markdown",
      "source": [
        "A base conta com 583 amostras e 11 features incluindo o atributo da classe."
      ],
      "metadata": {
        "id": "RZ6r-9RfbfkE"
      }
    },
    {
      "cell_type": "markdown",
      "source": [
        "### Pergunta 3:\n",
        "Essa base conta com 3 atributos categóricos. Precisamos fazer o pré processamento desses atributos para que todos sejam numéricos."
      ],
      "metadata": {
        "id": "Eiu-iEUJbhTh"
      }
    },
    {
      "cell_type": "code",
      "source": [
        "df.info()"
      ],
      "metadata": {
        "colab": {
          "base_uri": "https://localhost:8080/"
        },
        "id": "ttg7DlMjbJqj",
        "outputId": "05d6e3b5-327d-45c5-de7b-e4881c1c12c6"
      },
      "execution_count": 8,
      "outputs": [
        {
          "output_type": "stream",
          "name": "stdout",
          "text": [
            "<class 'pandas.core.frame.DataFrame'>\n",
            "RangeIndex: 583 entries, 0 to 582\n",
            "Data columns (total 12 columns):\n",
            " #   Column  Non-Null Count  Dtype  \n",
            "---  ------  --------------  -----  \n",
            " 0   id      583 non-null    int64  \n",
            " 1   V1      583 non-null    int64  \n",
            " 2   V2      583 non-null    object \n",
            " 3   V3      583 non-null    float64\n",
            " 4   V4      583 non-null    float64\n",
            " 5   V5      583 non-null    int64  \n",
            " 6   V6      583 non-null    int64  \n",
            " 7   V7      583 non-null    int64  \n",
            " 8   V8      583 non-null    float64\n",
            " 9   V9      583 non-null    float64\n",
            " 10  V10     583 non-null    float64\n",
            " 11  Class   583 non-null    int64  \n",
            "dtypes: float64(5), int64(6), object(1)\n",
            "memory usage: 54.8+ KB\n"
          ]
        }
      ]
    },
    {
      "cell_type": "markdown",
      "source": [
        "Falso"
      ],
      "metadata": {
        "id": "Q79mg3vNcPri"
      }
    },
    {
      "cell_type": "markdown",
      "source": [
        "### Pergunta 4:\n",
        "A base não tem dados faltantes.\n"
      ],
      "metadata": {
        "id": "EIblkHk8cSUp"
      }
    },
    {
      "cell_type": "code",
      "source": [
        "df.isna().sum()"
      ],
      "metadata": {
        "colab": {
          "base_uri": "https://localhost:8080/",
          "height": 460
        },
        "id": "aFlsyaHecJgG",
        "outputId": "a2e61168-16e0-45da-e937-ef2e1146f2e8"
      },
      "execution_count": 9,
      "outputs": [
        {
          "output_type": "execute_result",
          "data": {
            "text/plain": [
              "id       0\n",
              "V1       0\n",
              "V2       0\n",
              "V3       0\n",
              "V4       0\n",
              "V5       0\n",
              "V6       0\n",
              "V7       0\n",
              "V8       0\n",
              "V9       0\n",
              "V10      0\n",
              "Class    0\n",
              "dtype: int64"
            ],
            "text/html": [
              "<div>\n",
              "<style scoped>\n",
              "    .dataframe tbody tr th:only-of-type {\n",
              "        vertical-align: middle;\n",
              "    }\n",
              "\n",
              "    .dataframe tbody tr th {\n",
              "        vertical-align: top;\n",
              "    }\n",
              "\n",
              "    .dataframe thead th {\n",
              "        text-align: right;\n",
              "    }\n",
              "</style>\n",
              "<table border=\"1\" class=\"dataframe\">\n",
              "  <thead>\n",
              "    <tr style=\"text-align: right;\">\n",
              "      <th></th>\n",
              "      <th>0</th>\n",
              "    </tr>\n",
              "  </thead>\n",
              "  <tbody>\n",
              "    <tr>\n",
              "      <th>id</th>\n",
              "      <td>0</td>\n",
              "    </tr>\n",
              "    <tr>\n",
              "      <th>V1</th>\n",
              "      <td>0</td>\n",
              "    </tr>\n",
              "    <tr>\n",
              "      <th>V2</th>\n",
              "      <td>0</td>\n",
              "    </tr>\n",
              "    <tr>\n",
              "      <th>V3</th>\n",
              "      <td>0</td>\n",
              "    </tr>\n",
              "    <tr>\n",
              "      <th>V4</th>\n",
              "      <td>0</td>\n",
              "    </tr>\n",
              "    <tr>\n",
              "      <th>V5</th>\n",
              "      <td>0</td>\n",
              "    </tr>\n",
              "    <tr>\n",
              "      <th>V6</th>\n",
              "      <td>0</td>\n",
              "    </tr>\n",
              "    <tr>\n",
              "      <th>V7</th>\n",
              "      <td>0</td>\n",
              "    </tr>\n",
              "    <tr>\n",
              "      <th>V8</th>\n",
              "      <td>0</td>\n",
              "    </tr>\n",
              "    <tr>\n",
              "      <th>V9</th>\n",
              "      <td>0</td>\n",
              "    </tr>\n",
              "    <tr>\n",
              "      <th>V10</th>\n",
              "      <td>0</td>\n",
              "    </tr>\n",
              "    <tr>\n",
              "      <th>Class</th>\n",
              "      <td>0</td>\n",
              "    </tr>\n",
              "  </tbody>\n",
              "</table>\n",
              "</div><br><label><b>dtype:</b> int64</label>"
            ]
          },
          "metadata": {},
          "execution_count": 9
        }
      ]
    },
    {
      "cell_type": "markdown",
      "source": [
        "Verdadeiro"
      ],
      "metadata": {
        "id": "FGSB7d9vccKX"
      }
    },
    {
      "cell_type": "markdown",
      "source": [
        "### Pergunta 5:\n",
        "Sobre o best_score_ encontrado durante a otimização do SVC, marque a alternativa CORRETA."
      ],
      "metadata": {
        "id": "kRYNfCPncfeP"
      }
    },
    {
      "cell_type": "code",
      "source": [
        "# Realizando antes o mapeamento do dataset solicitado no enunciado do desafio\n",
        "def map_gender(df, V2):\n",
        "    df[V2] = df[V2].replace({'Female': 0, 'Male': 1})\n",
        "    return df\n",
        "df = map_gender(df, 'V2')\n"
      ],
      "metadata": {
        "id": "nikycrs-cXBJ",
        "colab": {
          "base_uri": "https://localhost:8080/"
        },
        "outputId": "b3c1b5ec-0398-4e66-ed68-2dcb04f389b7"
      },
      "execution_count": 10,
      "outputs": [
        {
          "output_type": "stream",
          "name": "stderr",
          "text": [
            "<ipython-input-10-9ba394f77e86>:3: FutureWarning: Downcasting behavior in `replace` is deprecated and will be removed in a future version. To retain the old behavior, explicitly call `result.infer_objects(copy=False)`. To opt-in to the future behavior, set `pd.set_option('future.no_silent_downcasting', True)`\n",
            "  df[V2] = df[V2].replace({'Female': 0, 'Male': 1})\n"
          ]
        }
      ]
    },
    {
      "cell_type": "code",
      "source": [
        "X = df.drop(columns=['id', 'Class'])\n",
        "y = df['Class']\n",
        "\n",
        "cv = StratifiedKFold(n_splits=10)\n",
        "\n",
        "# f1\n",
        "f1 = make_scorer(f1_score)\n",
        "\n",
        "# Parametro do kernel\n",
        "param_dist = {\n",
        "    'kernel': ['sigmoid', 'poly', 'rbf'],\n",
        "    'C': uniform(1, 10)\n",
        "}\n",
        "\n",
        "# SVC\n",
        "svc = SVC(random_state=5762)\n",
        "\n",
        "random_search = RandomizedSearchCV(\n",
        "    svc,\n",
        "    param_distributions=param_dist,\n",
        "    n_iter=5,\n",
        "    scoring=f1,\n",
        "    cv=cv,\n",
        "    random_state=5762\n",
        ")\n",
        "\n",
        "random_search.fit(X, y)\n",
        "\n",
        "# Resultados\n",
        "print(\"O valor da f1 encontrado foi aproximadamente\", round(random_search.best_score_,2))\n",
        "print(\"Melhores parâmetros:\", random_search.best_params_)\n",
        "print(\"Melhor estimador:\", random_search.best_estimator_)"
      ],
      "metadata": {
        "colab": {
          "base_uri": "https://localhost:8080/"
        },
        "id": "XXWh9qQKmdPL",
        "outputId": "63e706d5-b7c5-480a-8889-3984e55e2df8"
      },
      "execution_count": 11,
      "outputs": [
        {
          "output_type": "stream",
          "name": "stdout",
          "text": [
            "O valor da f1 encontrado foi aproximadamente 0.83\n",
            "Melhores parâmetros: {'C': 3.996689355015553, 'kernel': 'poly'}\n",
            "Melhor estimador: SVC(C=3.996689355015553, kernel='poly', random_state=5762)\n"
          ]
        }
      ]
    },
    {
      "cell_type": "markdown",
      "source": [
        "### Pergunta 6:\n",
        "O best_params_ encontrado durante a otimização do SVC indica que a melhor combinação de parâmetros usa um kernel RBF."
      ],
      "metadata": {
        "id": "awitz80qqCT9"
      }
    },
    {
      "cell_type": "markdown",
      "source": [
        "Falso"
      ],
      "metadata": {
        "id": "seNMH_xlwVF2"
      }
    },
    {
      "cell_type": "markdown",
      "source": [
        "### Pergunta 7:\n",
        "O best_params_ encontrado durante a otimização do SVC indica que C encontrado é aproximadamente 5."
      ],
      "metadata": {
        "id": "dUdze1SKwZy7"
      }
    },
    {
      "cell_type": "markdown",
      "source": [
        "Falso"
      ],
      "metadata": {
        "id": "qvwyrMaUxCOH"
      }
    },
    {
      "cell_type": "markdown",
      "source": [
        "### Pergunta 8:\n",
        "A melhor combinação de best_params_ encontrado durante a otimização do SVC é:"
      ],
      "metadata": {
        "id": "-Y-bP9kkxEFp"
      }
    },
    {
      "cell_type": "markdown",
      "source": [
        "Kernel Poly com C = 3.996"
      ],
      "metadata": {
        "id": "lHNBF90hxLuv"
      }
    },
    {
      "cell_type": "markdown",
      "source": [
        "### Pergunta 9:\n",
        "Sobre o best_score_ encontrado durante a otimização do Random Forest, marque a alternativa CORRETA."
      ],
      "metadata": {
        "id": "ihZfi6URxTTy"
      }
    },
    {
      "cell_type": "code",
      "source": [
        "X = df.drop(columns=['id', 'Class'])\n",
        "y = df['Class']\n",
        "\n",
        "cv = StratifiedKFold(n_splits=10)\n",
        "\n",
        "# f1\n",
        "f1 = make_scorer(f1_score)\n",
        "\n",
        "# Parametro do kernel\n",
        "param_dist = {\n",
        "    'n_estimators': randint(10, 1000),\n",
        "    'bootstrap': [True, False],\n",
        "    'criterion': ['gini', 'entropy']\n",
        "}\n",
        "\n",
        "# SVC\n",
        "rf = RandomForestClassifier(random_state = 5762)\n",
        "\n",
        "random_search = RandomizedSearchCV(\n",
        "    rf,\n",
        "    param_distributions=param_dist,\n",
        "    n_iter=5,\n",
        "    scoring=f1,\n",
        "    cv=cv,\n",
        "    random_state=5762\n",
        ")\n",
        "\n",
        "random_search.fit(X, y)\n",
        "\n",
        "# Resultados\n",
        "print(\"O valor da f1 encontrado foi aproximadamente\", round(random_search.best_score_,2))\n",
        "print(\"Melhores parâmetros:\", random_search.best_params_)\n",
        "print(\"Melhor estimador:\", random_search.best_estimator_)"
      ],
      "metadata": {
        "colab": {
          "base_uri": "https://localhost:8080/"
        },
        "id": "pfP4H2wZpH7C",
        "outputId": "f6100efc-a29a-4b0e-f813-87c1269c86b6"
      },
      "execution_count": 12,
      "outputs": [
        {
          "output_type": "stream",
          "name": "stdout",
          "text": [
            "O valor da f1 encontrado foi aproximadamente 0.8\n",
            "Melhores parâmetros: {'bootstrap': True, 'criterion': 'gini', 'n_estimators': 488}\n",
            "Melhor estimador: RandomForestClassifier(n_estimators=488, random_state=5762)\n"
          ]
        }
      ]
    },
    {
      "cell_type": "markdown",
      "source": [
        "### Pergunta 10:\n",
        "O best_params_ encontrado durante a otimização do Random Forest indica que a melhor combinação de parâmetros usa Boostrap True.\n"
      ],
      "metadata": {
        "id": "nn7cNWxN8r9H"
      }
    },
    {
      "cell_type": "markdown",
      "source": [
        "Verdadeiro"
      ],
      "metadata": {
        "id": "mZZcgJf88v5V"
      }
    },
    {
      "cell_type": "markdown",
      "source": [
        "### Pergunta 11:\n",
        "O best_params_ encontrado durante a otimização do Random Forest indica que a melhor combinação de parâmetros usa Criterion Entropy.\n"
      ],
      "metadata": {
        "id": "v0rQVV8Z8yrV"
      }
    },
    {
      "cell_type": "markdown",
      "source": [
        "Falso"
      ],
      "metadata": {
        "id": "5iacqyc-82pE"
      }
    },
    {
      "cell_type": "markdown",
      "source": [
        "### Pergunta 12:\n",
        "O best_params_ encontrado durante a otimização do Random Forest indica que a melhor combinação de parâmetros conta com quantos estimadores?\n"
      ],
      "metadata": {
        "id": "1VWRc6wS834E"
      }
    },
    {
      "cell_type": "markdown",
      "source": [
        "n_estimators: 488"
      ],
      "metadata": {
        "id": "X-uAy1f58736"
      }
    },
    {
      "cell_type": "markdown",
      "source": [
        "### Pergunta 13:\n",
        "Suponha que nossas duas opções para solução do problema sejam o SVC e o Random Forest que foram modelados anteriormente. Além disso, não é possível rodar o experimento novamente com outros parâmetros. Marque a alternativa que justifica de forma CORRETA a escolha do modelo mais adequado."
      ],
      "metadata": {
        "id": "HGb_7Ntg9CEu"
      }
    },
    {
      "cell_type": "markdown",
      "source": [
        "  O SVC é o modelo que deveria ser escolhido já que ele apresenta uma f1 maior.\n"
      ],
      "metadata": {
        "id": "cHUAA6zd9FU2"
      }
    },
    {
      "cell_type": "markdown",
      "source": [
        "### Pergunta 14:\n",
        " Como os dois modelos apresentaram resultados semelhantes de f1, podemos entender que a capacidade de generalização dos modelos deve ser semelhante na prática. Nesse caso, não faz sentido a análise de outras métricas para validação dos modelos."
      ],
      "metadata": {
        "id": "shOzyrcU9HvG"
      }
    },
    {
      "cell_type": "markdown",
      "source": [
        "Falso"
      ],
      "metadata": {
        "id": "YOunHiyr9KYN"
      }
    },
    {
      "cell_type": "markdown",
      "source": [
        "### Pergunta 15:\n",
        "Os modelos treinados apresentam resultados de f1 semelhantes por se tratarem de modelos com estrutura de implementação semelhantes, são ambos modelos de árvores de decisão. Nesse caso, sempre que treinarmos um modelo de árvore, a tendência é que o resultado de f1 seja próximo aos encontrados nesse desafio.\n"
      ],
      "metadata": {
        "id": "bhxys3WK9LbX"
      }
    },
    {
      "cell_type": "markdown",
      "source": [
        "Falso"
      ],
      "metadata": {
        "id": "Udmv4bQ79Ona"
      }
    },
    {
      "cell_type": "code",
      "source": [],
      "metadata": {
        "id": "xJY_ggPJ9BUJ"
      },
      "execution_count": null,
      "outputs": []
    }
  ]
}